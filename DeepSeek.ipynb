{
 "cells": [
  {
   "cell_type": "raw",
   "metadata": {},
   "source": [
    "Copyright (c) 2025 Intel Corporation"
   ]
  },
  {
   "cell_type": "markdown",
   "metadata": {},
   "source": [
    "\n",
    "### **1. Introduction**\n",
    "\n",
    "#### Purpose\n",
    "This notebook is designed to demonstrate how to run the **distilled versions of the DeepSeek R1 Reasoning model family**. These models are optimized for structured thinking and reasoning tasks and are lightweight enough to run on a single Intel Max Series 1100 GPU with 48 GB of VRAM.\n",
    "\n",
    "#### Highlights\n",
    "1. **Distilled Models**: Focused versions of DeepSeek R1 for better performance on limited hardware.\n",
    "2. **Interactive Mode**: Engage directly with the models through a simple interface.\n",
    "3. **Device Agnostic**: Automatically selects GPU (`xpu`) or CPU based on availability.\n",
    "\n",
    "---\n"
   ]
  },
  {
   "cell_type": "markdown",
   "metadata": {},
   "source": [
    "#### Required packages\n",
    "\n",
    "Ensure the required libraries (`transformers`, `accelerate`, `IProgress` and others) are installed."
   ]
  },
  {
   "cell_type": "code",
   "execution_count": 1,
   "metadata": {},
   "outputs": [
    {
     "name": "stdout",
     "output_type": "stream",
     "text": [
      "Requirement already satisfied: transformers in /opt/conda/lib/python3.11/site-packages (4.51.3)\n",
      "Requirement already satisfied: filelock in /opt/conda/lib/python3.11/site-packages (from transformers) (3.18.0)\n",
      "Requirement already satisfied: huggingface-hub<1.0,>=0.30.0 in /opt/conda/lib/python3.11/site-packages (from transformers) (0.31.2)\n",
      "Requirement already satisfied: numpy>=1.17 in /opt/conda/lib/python3.11/site-packages (from transformers) (2.2.5)\n",
      "Requirement already satisfied: packaging>=20.0 in /opt/conda/lib/python3.11/site-packages (from transformers) (23.2)\n",
      "Requirement already satisfied: pyyaml>=5.1 in /opt/conda/lib/python3.11/site-packages (from transformers) (6.0.1)\n",
      "Requirement already satisfied: regex!=2019.12.17 in /opt/conda/lib/python3.11/site-packages (from transformers) (2024.11.6)\n",
      "Requirement already satisfied: requests in /opt/conda/lib/python3.11/site-packages (from transformers) (2.31.0)\n",
      "Requirement already satisfied: tokenizers<0.22,>=0.21 in /opt/conda/lib/python3.11/site-packages (from transformers) (0.21.1)\n",
      "Requirement already satisfied: safetensors>=0.4.3 in /opt/conda/lib/python3.11/site-packages (from transformers) (0.5.3)\n",
      "Requirement already satisfied: tqdm>=4.27 in /opt/conda/lib/python3.11/site-packages (from transformers) (4.67.1)\n",
      "Requirement already satisfied: fsspec>=2023.5.0 in /opt/conda/lib/python3.11/site-packages (from huggingface-hub<1.0,>=0.30.0->transformers) (2025.3.2)\n",
      "Requirement already satisfied: typing-extensions>=3.7.4.3 in /opt/conda/lib/python3.11/site-packages (from huggingface-hub<1.0,>=0.30.0->transformers) (4.13.2)\n",
      "Requirement already satisfied: charset-normalizer<4,>=2 in /opt/conda/lib/python3.11/site-packages (from requests->transformers) (3.3.0)\n",
      "Requirement already satisfied: idna<4,>=2.5 in /opt/conda/lib/python3.11/site-packages (from requests->transformers) (3.4)\n",
      "Requirement already satisfied: urllib3<3,>=1.21.1 in /opt/conda/lib/python3.11/site-packages (from requests->transformers) (2.0.7)\n",
      "Requirement already satisfied: certifi>=2017.4.17 in /opt/conda/lib/python3.11/site-packages (from requests->transformers) (2025.1.31)\n",
      "Requirement already satisfied: tqdm in /opt/conda/lib/python3.11/site-packages (4.67.1)\n",
      "Requirement already satisfied: IPywidgets in /opt/conda/lib/python3.11/site-packages (8.1.7)\n",
      "Requirement already satisfied: comm>=0.1.3 in /opt/conda/lib/python3.11/site-packages (from IPywidgets) (0.1.4)\n",
      "Requirement already satisfied: ipython>=6.1.0 in /opt/conda/lib/python3.11/site-packages (from IPywidgets) (8.16.1)\n",
      "Requirement already satisfied: traitlets>=4.3.1 in /opt/conda/lib/python3.11/site-packages (from IPywidgets) (5.11.2)\n",
      "Requirement already satisfied: widgetsnbextension~=4.0.14 in /opt/conda/lib/python3.11/site-packages (from IPywidgets) (4.0.14)\n",
      "Requirement already satisfied: jupyterlab_widgets~=3.0.15 in /opt/conda/lib/python3.11/site-packages (from IPywidgets) (3.0.15)\n",
      "Requirement already satisfied: backcall in /opt/conda/lib/python3.11/site-packages (from ipython>=6.1.0->IPywidgets) (0.2.0)\n",
      "Requirement already satisfied: decorator in /opt/conda/lib/python3.11/site-packages (from ipython>=6.1.0->IPywidgets) (5.1.1)\n",
      "Requirement already satisfied: jedi>=0.16 in /opt/conda/lib/python3.11/site-packages (from ipython>=6.1.0->IPywidgets) (0.19.1)\n",
      "Requirement already satisfied: matplotlib-inline in /opt/conda/lib/python3.11/site-packages (from ipython>=6.1.0->IPywidgets) (0.1.6)\n",
      "Requirement already satisfied: pickleshare in /opt/conda/lib/python3.11/site-packages (from ipython>=6.1.0->IPywidgets) (0.7.5)\n",
      "Requirement already satisfied: prompt-toolkit!=3.0.37,<3.1.0,>=3.0.30 in /opt/conda/lib/python3.11/site-packages (from ipython>=6.1.0->IPywidgets) (3.0.39)\n",
      "Requirement already satisfied: pygments>=2.4.0 in /opt/conda/lib/python3.11/site-packages (from ipython>=6.1.0->IPywidgets) (2.16.1)\n",
      "Requirement already satisfied: stack-data in /opt/conda/lib/python3.11/site-packages (from ipython>=6.1.0->IPywidgets) (0.6.2)\n",
      "Requirement already satisfied: pexpect>4.3 in /opt/conda/lib/python3.11/site-packages (from ipython>=6.1.0->IPywidgets) (4.8.0)\n",
      "Requirement already satisfied: parso<0.9.0,>=0.8.3 in /opt/conda/lib/python3.11/site-packages (from jedi>=0.16->ipython>=6.1.0->IPywidgets) (0.8.3)\n",
      "Requirement already satisfied: ptyprocess>=0.5 in /opt/conda/lib/python3.11/site-packages (from pexpect>4.3->ipython>=6.1.0->IPywidgets) (0.7.0)\n",
      "Requirement already satisfied: wcwidth in /opt/conda/lib/python3.11/site-packages (from prompt-toolkit!=3.0.37,<3.1.0,>=3.0.30->ipython>=6.1.0->IPywidgets) (0.2.8)\n",
      "Requirement already satisfied: executing>=1.2.0 in /opt/conda/lib/python3.11/site-packages (from stack-data->ipython>=6.1.0->IPywidgets) (1.2.0)\n",
      "Requirement already satisfied: asttokens>=2.1.0 in /opt/conda/lib/python3.11/site-packages (from stack-data->ipython>=6.1.0->IPywidgets) (2.4.0)\n",
      "Requirement already satisfied: pure-eval in /opt/conda/lib/python3.11/site-packages (from stack-data->ipython>=6.1.0->IPywidgets) (0.2.2)\n",
      "Requirement already satisfied: six>=1.12.0 in /opt/conda/lib/python3.11/site-packages (from asttokens>=2.1.0->stack-data->ipython>=6.1.0->IPywidgets) (1.16.0)\n",
      "Requirement already satisfied: tqdm in /opt/conda/lib/python3.11/site-packages (4.67.1)\n",
      "Requirement already satisfied: IPywidgets in /opt/conda/lib/python3.11/site-packages (8.1.7)\n",
      "Requirement already satisfied: comm>=0.1.3 in /opt/conda/lib/python3.11/site-packages (from IPywidgets) (0.1.4)\n",
      "Requirement already satisfied: ipython>=6.1.0 in /opt/conda/lib/python3.11/site-packages (from IPywidgets) (8.16.1)\n",
      "Requirement already satisfied: traitlets>=4.3.1 in /opt/conda/lib/python3.11/site-packages (from IPywidgets) (5.11.2)\n",
      "Requirement already satisfied: widgetsnbextension~=4.0.14 in /opt/conda/lib/python3.11/site-packages (from IPywidgets) (4.0.14)\n",
      "Requirement already satisfied: jupyterlab_widgets~=3.0.15 in /opt/conda/lib/python3.11/site-packages (from IPywidgets) (3.0.15)\n",
      "Requirement already satisfied: backcall in /opt/conda/lib/python3.11/site-packages (from ipython>=6.1.0->IPywidgets) (0.2.0)\n",
      "Requirement already satisfied: decorator in /opt/conda/lib/python3.11/site-packages (from ipython>=6.1.0->IPywidgets) (5.1.1)\n",
      "Requirement already satisfied: jedi>=0.16 in /opt/conda/lib/python3.11/site-packages (from ipython>=6.1.0->IPywidgets) (0.19.1)\n",
      "Requirement already satisfied: matplotlib-inline in /opt/conda/lib/python3.11/site-packages (from ipython>=6.1.0->IPywidgets) (0.1.6)\n",
      "Requirement already satisfied: pickleshare in /opt/conda/lib/python3.11/site-packages (from ipython>=6.1.0->IPywidgets) (0.7.5)\n",
      "Requirement already satisfied: prompt-toolkit!=3.0.37,<3.1.0,>=3.0.30 in /opt/conda/lib/python3.11/site-packages (from ipython>=6.1.0->IPywidgets) (3.0.39)\n",
      "Requirement already satisfied: pygments>=2.4.0 in /opt/conda/lib/python3.11/site-packages (from ipython>=6.1.0->IPywidgets) (2.16.1)\n",
      "Requirement already satisfied: stack-data in /opt/conda/lib/python3.11/site-packages (from ipython>=6.1.0->IPywidgets) (0.6.2)\n",
      "Requirement already satisfied: pexpect>4.3 in /opt/conda/lib/python3.11/site-packages (from ipython>=6.1.0->IPywidgets) (4.8.0)\n",
      "Requirement already satisfied: parso<0.9.0,>=0.8.3 in /opt/conda/lib/python3.11/site-packages (from jedi>=0.16->ipython>=6.1.0->IPywidgets) (0.8.3)\n",
      "Requirement already satisfied: ptyprocess>=0.5 in /opt/conda/lib/python3.11/site-packages (from pexpect>4.3->ipython>=6.1.0->IPywidgets) (0.7.0)\n",
      "Requirement already satisfied: wcwidth in /opt/conda/lib/python3.11/site-packages (from prompt-toolkit!=3.0.37,<3.1.0,>=3.0.30->ipython>=6.1.0->IPywidgets) (0.2.8)\n",
      "Requirement already satisfied: executing>=1.2.0 in /opt/conda/lib/python3.11/site-packages (from stack-data->ipython>=6.1.0->IPywidgets) (1.2.0)\n",
      "Requirement already satisfied: asttokens>=2.1.0 in /opt/conda/lib/python3.11/site-packages (from stack-data->ipython>=6.1.0->IPywidgets) (2.4.0)\n",
      "Requirement already satisfied: pure-eval in /opt/conda/lib/python3.11/site-packages (from stack-data->ipython>=6.1.0->IPywidgets) (0.2.2)\n",
      "Requirement already satisfied: six>=1.12.0 in /opt/conda/lib/python3.11/site-packages (from asttokens>=2.1.0->stack-data->ipython>=6.1.0->IPywidgets) (1.16.0)\n",
      "Requirement already satisfied: accelerate in /opt/conda/lib/python3.11/site-packages (1.7.0)\n",
      "Requirement already satisfied: numpy<3.0.0,>=1.17 in /opt/conda/lib/python3.11/site-packages (from accelerate) (2.2.5)\n",
      "Requirement already satisfied: packaging>=20.0 in /opt/conda/lib/python3.11/site-packages (from accelerate) (23.2)\n",
      "Requirement already satisfied: psutil in /opt/conda/lib/python3.11/site-packages (from accelerate) (5.9.5)\n",
      "Requirement already satisfied: pyyaml in /opt/conda/lib/python3.11/site-packages (from accelerate) (6.0.1)\n",
      "Requirement already satisfied: torch>=2.0.0 in /opt/conda/lib/python3.11/site-packages (from accelerate) (2.7.0)\n",
      "Requirement already satisfied: huggingface-hub>=0.21.0 in /opt/conda/lib/python3.11/site-packages (from accelerate) (0.31.2)\n",
      "Requirement already satisfied: safetensors>=0.4.3 in /opt/conda/lib/python3.11/site-packages (from accelerate) (0.5.3)\n",
      "Requirement already satisfied: filelock in /opt/conda/lib/python3.11/site-packages (from huggingface-hub>=0.21.0->accelerate) (3.18.0)\n",
      "Requirement already satisfied: fsspec>=2023.5.0 in /opt/conda/lib/python3.11/site-packages (from huggingface-hub>=0.21.0->accelerate) (2025.3.2)\n",
      "Requirement already satisfied: requests in /opt/conda/lib/python3.11/site-packages (from huggingface-hub>=0.21.0->accelerate) (2.31.0)\n",
      "Requirement already satisfied: tqdm>=4.42.1 in /opt/conda/lib/python3.11/site-packages (from huggingface-hub>=0.21.0->accelerate) (4.67.1)\n",
      "Requirement already satisfied: typing-extensions>=3.7.4.3 in /opt/conda/lib/python3.11/site-packages (from huggingface-hub>=0.21.0->accelerate) (4.13.2)\n",
      "Collecting sympy>=1.13.3 (from torch>=2.0.0->accelerate)\n",
      "  Using cached sympy-1.14.0-py3-none-any.whl.metadata (12 kB)\n",
      "Requirement already satisfied: networkx in /opt/conda/lib/python3.11/site-packages (from torch>=2.0.0->accelerate) (3.4.2)\n",
      "Requirement already satisfied: jinja2 in /opt/conda/lib/python3.11/site-packages (from torch>=2.0.0->accelerate) (3.1.2)\n",
      "Requirement already satisfied: nvidia-cuda-nvrtc-cu12==12.6.77 in /opt/conda/lib/python3.11/site-packages (from torch>=2.0.0->accelerate) (12.6.77)\n",
      "Requirement already satisfied: nvidia-cuda-runtime-cu12==12.6.77 in /opt/conda/lib/python3.11/site-packages (from torch>=2.0.0->accelerate) (12.6.77)\n",
      "Requirement already satisfied: nvidia-cuda-cupti-cu12==12.6.80 in /opt/conda/lib/python3.11/site-packages (from torch>=2.0.0->accelerate) (12.6.80)\n",
      "Requirement already satisfied: nvidia-cudnn-cu12==9.5.1.17 in /opt/conda/lib/python3.11/site-packages (from torch>=2.0.0->accelerate) (9.5.1.17)\n",
      "Requirement already satisfied: nvidia-cublas-cu12==12.6.4.1 in /opt/conda/lib/python3.11/site-packages (from torch>=2.0.0->accelerate) (12.6.4.1)\n",
      "Requirement already satisfied: nvidia-cufft-cu12==11.3.0.4 in /opt/conda/lib/python3.11/site-packages (from torch>=2.0.0->accelerate) (11.3.0.4)\n",
      "Requirement already satisfied: nvidia-curand-cu12==10.3.7.77 in /opt/conda/lib/python3.11/site-packages (from torch>=2.0.0->accelerate) (10.3.7.77)\n",
      "Requirement already satisfied: nvidia-cusolver-cu12==11.7.1.2 in /opt/conda/lib/python3.11/site-packages (from torch>=2.0.0->accelerate) (11.7.1.2)\n",
      "Requirement already satisfied: nvidia-cusparse-cu12==12.5.4.2 in /opt/conda/lib/python3.11/site-packages (from torch>=2.0.0->accelerate) (12.5.4.2)\n",
      "Requirement already satisfied: nvidia-cusparselt-cu12==0.6.3 in /opt/conda/lib/python3.11/site-packages (from torch>=2.0.0->accelerate) (0.6.3)\n",
      "Requirement already satisfied: nvidia-nccl-cu12==2.26.2 in /opt/conda/lib/python3.11/site-packages (from torch>=2.0.0->accelerate) (2.26.2)\n",
      "Requirement already satisfied: nvidia-nvtx-cu12==12.6.77 in /opt/conda/lib/python3.11/site-packages (from torch>=2.0.0->accelerate) (12.6.77)\n",
      "Requirement already satisfied: nvidia-nvjitlink-cu12==12.6.85 in /opt/conda/lib/python3.11/site-packages (from torch>=2.0.0->accelerate) (12.6.85)\n",
      "Requirement already satisfied: nvidia-cufile-cu12==1.11.1.6 in /opt/conda/lib/python3.11/site-packages (from torch>=2.0.0->accelerate) (1.11.1.6)\n",
      "Requirement already satisfied: triton==3.3.0 in /opt/conda/lib/python3.11/site-packages (from torch>=2.0.0->accelerate) (3.3.0)\n",
      "Requirement already satisfied: setuptools>=40.8.0 in /opt/conda/lib/python3.11/site-packages (from triton==3.3.0->torch>=2.0.0->accelerate) (68.2.2)\n",
      "Requirement already satisfied: mpmath<1.4,>=1.1.0 in /opt/conda/lib/python3.11/site-packages (from sympy>=1.13.3->torch>=2.0.0->accelerate) (1.3.0)\n",
      "Requirement already satisfied: MarkupSafe>=2.0 in /opt/conda/lib/python3.11/site-packages (from jinja2->torch>=2.0.0->accelerate) (2.1.3)\n",
      "Requirement already satisfied: charset-normalizer<4,>=2 in /opt/conda/lib/python3.11/site-packages (from requests->huggingface-hub>=0.21.0->accelerate) (3.3.0)\n",
      "Requirement already satisfied: idna<4,>=2.5 in /opt/conda/lib/python3.11/site-packages (from requests->huggingface-hub>=0.21.0->accelerate) (3.4)\n",
      "Requirement already satisfied: urllib3<3,>=1.21.1 in /opt/conda/lib/python3.11/site-packages (from requests->huggingface-hub>=0.21.0->accelerate) (2.0.7)\n",
      "Requirement already satisfied: certifi>=2017.4.17 in /opt/conda/lib/python3.11/site-packages (from requests->huggingface-hub>=0.21.0->accelerate) (2025.1.31)\n",
      "Using cached sympy-1.14.0-py3-none-any.whl (6.3 MB)\n",
      "Installing collected packages: sympy\n",
      "  Attempting uninstall: sympy\n",
      "    Found existing installation: sympy 1.13.1\n",
      "    Uninstalling sympy-1.13.1:\n",
      "      Successfully uninstalled sympy-1.13.1\n",
      "Successfully installed sympy-1.14.0\n",
      "Requirement already satisfied: ninja in /opt/conda/lib/python3.11/site-packages (1.11.1.4)\n",
      "Requirement already satisfied: networkx in /opt/conda/lib/python3.11/site-packages (3.4.2)\n",
      "Collecting sympy==1.13.3\n",
      "  Downloading sympy-1.13.3-py3-none-any.whl.metadata (12 kB)\n",
      "Requirement already satisfied: mpmath<1.4,>=1.1.0 in /opt/conda/lib/python3.11/site-packages (from sympy==1.13.3) (1.3.0)\n",
      "Downloading sympy-1.13.3-py3-none-any.whl (6.2 MB)\n",
      "\u001b[2K   \u001b[90m━━━━━━━━━━━━━━━━━━━━━━━━━━━━━━━━━━━━━━━━\u001b[0m \u001b[32m6.2/6.2 MB\u001b[0m \u001b[31m25.4 MB/s\u001b[0m eta \u001b[36m0:00:00\u001b[0m00:01\u001b[0m00:01\u001b[0m\n",
      "\u001b[?25hInstalling collected packages: sympy\n",
      "  Attempting uninstall: sympy\n",
      "    Found existing installation: sympy 1.14.0\n",
      "    Uninstalling sympy-1.14.0:\n",
      "      Successfully uninstalled sympy-1.14.0\n",
      "Successfully installed sympy-1.13.3\n"
     ]
    }
   ],
   "source": [
    "import sys\n",
    "import site\n",
    "import os\n",
    "import subprocess\n",
    "import importlib\n",
    "from typing import Union, List\n",
    "\n",
    "def pip_install(packages: Union[str, List[str]], version: Union[str, List[str]] = None) -> None:\n",
    "    \"\"\"\n",
    "    Install packages using pip and update Python path to make them immediately available.\n",
    "    \"\"\"\n",
    "    if isinstance(packages, str):\n",
    "        packages = [packages]\n",
    "    \n",
    "    if version and isinstance(version, str):\n",
    "        version = [version]\n",
    "    \n",
    "    if version:\n",
    "        if len(version) != len(packages):\n",
    "            raise ValueError(\"If versions are specified, they must match the number of packages\")\n",
    "        install_packages = [f\"{pkg}>={ver}\" if ver else pkg for pkg, ver in zip(packages, version)]\n",
    "    else:\n",
    "        install_packages = packages\n",
    "    \n",
    "    for pkg in install_packages:\n",
    "        try:\n",
    "            subprocess.check_call([sys.executable, \"-m\", \"pip\", \"install\", \"--upgrade\", pkg])\n",
    "        except subprocess.CalledProcessError as e:\n",
    "            print(f\"Failed to install {pkg}: {str(e)}\")\n",
    "            continue\n",
    "    \n",
    "    site_packages_dir = site.getsitepackages()[0]    \n",
    "    \n",
    "    if not os.access(site_packages_dir, os.W_OK):\n",
    "        user_site_packages_dir = site.getusersitepackages()\n",
    "        if user_site_packages_dir in sys.path:\n",
    "            sys.path.remove(user_site_packages_dir)\n",
    "        sys.path.insert(0, user_site_packages_dir)\n",
    "        globals()['__path_updated'] = user_site_packages_dir\n",
    "    else:\n",
    "        if site_packages_dir in sys.path:\n",
    "            sys.path.remove(site_packages_dir)\n",
    "        sys.path.insert(0, site_packages_dir)\n",
    "        globals()['__path_updated'] = site_packages_dir\n",
    "    \n",
    "    for package in packages:\n",
    "        base_package = package.split('>')[0].strip()\n",
    "        if base_package in sys.modules:\n",
    "            try:\n",
    "                importlib.reload(sys.modules[base_package])\n",
    "            except:\n",
    "                pass\n",
    "\n",
    "# Example usage:\n",
    "# Single package:\n",
    "# pip_install(\"transformers\", \"4.38.0\")\n",
    "\n",
    "# Multiple packages:\n",
    "# pip_install(\n",
    "#     [\"transformers\", \"datasets\", \"wandb\"],\n",
    "#     [\"4.38.0\", \"2.18.0\", \"0.16.0\"]\n",
    "# )\n",
    "\n",
    "# Without version:\n",
    "# pip_install(\"transformers\")\n",
    "# pip_install([\"transformers\", \"datasets\"])\n",
    "\n",
    "pip_install([\"transformers\",\n",
    "         \"tqdm\",\n",
    "         \"IPywidgets\",\n",
    "         \"tqdm\",\n",
    "         \"IPywidgets\",\n",
    "         \"accelerate\",\n",
    "         \"ninja\",\n",
    "         \"networkx\",\n",
    "         \"sympy==1.13.3\"]) "
   ]
  },
  {
   "cell_type": "code",
   "execution_count": null,
   "metadata": {},
   "outputs": [],
   "source": [
    "# pip_install([\"transformers\",\n",
    "             \"tqdm\",\n",
    "             \"IPywidgets\",\n",
    "             \"tqdm\",\n",
    "             \"IPywidgets\",\n",
    "             \"accelerate\",\n",
    "             \"ninja\",\n",
    "             \"networkx\",\n",
    "             \"sympy==1.13.1\"]) "
   ]
  },
  {
   "cell_type": "markdown",
   "metadata": {},
   "source": [
    "___"
   ]
  },
  {
   "cell_type": "markdown",
   "metadata": {},
   "source": [
    "#### Setting Environment Variables for Optimizing Intel GPU Performance\n",
    "\n",
    "These settings enable advanced features like immediate command lists, system management, and persistent caching, which are crucial for optimizing workloads on Intel's GPU stack.\n"
   ]
  },
  {
   "cell_type": "code",
   "execution_count": 2,
   "metadata": {},
   "outputs": [],
   "source": [
    "import os\n",
    "\n",
    "os.environ[\"SYCL_PI_LEVEL_ZERO_USE_IMMEDIATE_COMMANDLISTS\"] = \"1\"\n",
    "os.environ[\"ENABLE_SDP_FUSION\"] = \"1\"\n",
    "os.environ[\"ZES_ENABLE_SYSMAN\"] = \"1\"\n",
    "os.environ[\"SYCL_CACHE_PERSISTENT\"] = \"1\""
   ]
  },
  {
   "cell_type": "markdown",
   "metadata": {},
   "source": [
    "____"
   ]
  },
  {
   "cell_type": "markdown",
   "metadata": {},
   "source": [
    "#### Importing Libraries and Model List\n",
    "\n",
    "This section imports necessary Python libraries and defines a list of available models."
   ]
  },
  {
   "cell_type": "code",
   "execution_count": 3,
   "metadata": {},
   "outputs": [],
   "source": [
    "import re\n",
    "import torch\n",
    "from transformers import AutoTokenizer, AutoModelForCausalLM\n",
    "from IPython.display import display, Markdown\n",
    "\n",
    "MODEL_LIST = [\n",
    "    \"deepseek-ai/DeepSeek-R1-Distill-Qwen-1.5B\",\n",
    "    \"deepseek-ai/DeepSeek-R1-Distill-Qwen-7B\",\n",
    "    \"deepseek-ai/DeepSeek-R1-Distill-Llama-8B\",\n",
    "]"
   ]
  },
  {
   "cell_type": "markdown",
   "metadata": {},
   "source": [
    "___"
   ]
  },
  {
   "cell_type": "markdown",
   "metadata": {},
   "source": [
    "#### Selecting Device\n",
    "The following function selects the device for running the model. It uses xpu if available, otherwise defaults to cpu."
   ]
  },
  {
   "cell_type": "code",
   "execution_count": 4,
   "metadata": {},
   "outputs": [],
   "source": [
    "def select_device(preferred_device=\"xpu\"):\n",
    "    \"\"\"Select the device to use (xpu or cpu).\"\"\"\n",
    "    if torch.xpu.is_available():\n",
    "        print(\"xpu is available\")\n",
    "        return \"xpu\"\n",
    "        print(\"xpu not available, using cpu\")\n",
    "    return \"cpu\""
   ]
  },
  {
   "cell_type": "markdown",
   "metadata": {},
   "source": [
    "#### Loading Model and Tokenizer\n",
    "This function loads the model and tokenizer directly from Hugging Face, ensuring compatibility with Intel devices."
   ]
  },
  {
   "cell_type": "code",
   "execution_count": 5,
   "metadata": {},
   "outputs": [],
   "source": [
    "def load_model_and_tokenizer(model_id_or_path, device, torch_dtype):\n",
    "    \"\"\"Load the model and tokenizer directly from Hugging Face.\"\"\"\n",
    "    print(f\"Downloading model and tokenizer: {model_id_or_path}\")\n",
    "    tokenizer = AutoTokenizer.from_pretrained(model_id_or_path, trust_remote_code=True)\n",
    "    model = AutoModelForCausalLM.from_pretrained(\n",
    "        model_id_or_path,\n",
    "        trust_remote_code=True,\n",
    "        torch_dtype=torch_dtype,\n",
    "    ).to(device).eval()\n",
    "    return tokenizer, model"
   ]
  },
  {
   "cell_type": "markdown",
   "metadata": {},
   "source": [
    "___"
   ]
  },
  {
   "cell_type": "markdown",
   "metadata": {},
   "source": [
    "#### Prepare input and Generate output\n",
    "\n",
    "The function `prepare_input` encodes user input into a format suitable for the model. The function `geneate_output` generates the model's output based on the prepared input. It includes various parameters like max_length, temperature, and repetition_penalty for fine-tuning the response."
   ]
  },
  {
   "cell_type": "code",
   "execution_count": 6,
   "metadata": {},
   "outputs": [],
   "source": [
    "def prepare_input(tokenizer, user_input, device):\n",
    "    \"\"\"Prepare input IDs for the model.\"\"\"\n",
    "    user_input = (\n",
    "        f\"### Instruction:\\n{user_input}\\n\\n### Response:\"\n",
    "    )\n",
    "    input_ids = tokenizer.encode(user_input, return_tensors=\"pt\", truncation=False)\n",
    "    return input_ids.to(device=device)\n",
    "\n",
    "def generate_output(model, tokenizer, \n",
    "                    input_ids, device, \n",
    "                    torch_dtype, max_length=4096, \n",
    "                    temperature=0.7, top_p=0.9, \n",
    "                    top_k=50, num_beams=1, \n",
    "                    repetition_penalty=1.2):\n",
    "    \"\"\"Generate output from the model.\"\"\"\n",
    "    with torch.autocast(device_type=\"xpu\", dtype=torch.bfloat16):\n",
    "        with torch.no_grad():\n",
    "            output = model.generate(\n",
    "                input_ids,                \n",
    "                pad_token_id=tokenizer.eos_token_id,\n",
    "                max_length=max_length,\n",
    "                temperature=temperature,\n",
    "                top_p=top_p,\n",
    "                top_k=top_k,\n",
    "                num_beams=num_beams,\n",
    "                repetition_penalty=repetition_penalty,\n",
    "            )\n",
    "    return output\n",
    "\n",
    "def process_generated_text(tokenizer, output_ids):\n",
    "    \"\"\"Process the generated text.\"\"\"\n",
    "    generated_text = tokenizer.decode(output_ids[0], skip_special_tokens=True)\n",
    "    match = re.search(r'### Response:(.*)', generated_text, re.S)\n",
    "    if match:\n",
    "        return match.group(1).strip()\n",
    "    return generated_text.strip()"
   ]
  },
  {
   "cell_type": "markdown",
   "metadata": {},
   "source": [
    "___"
   ]
  },
  {
   "cell_type": "markdown",
   "metadata": {},
   "source": [
    "#### Main Logic for Model Selection\n",
    "This section provides a list of available models, allows the user to select one, and starts the interactive session."
   ]
  },
  {
   "cell_type": "code",
   "execution_count": 7,
   "metadata": {},
   "outputs": [],
   "source": [
    "def run_model_interactively(model_id):\n",
    "    \"\"\"Run the selected model interactively for structured tasks.\"\"\"\n",
    "    \n",
    "    print(f\"Loading model and tokenizer...: {model_id}\")\n",
    "    tokenizer, model = load_model_and_tokenizer(model_id, device, torch_dtype)\n",
    "    \n",
    "    print(\"\\nWelcome! This model is designed for structured thinking and reasoning tasks.\")\n",
    "    print(\"Provide an instruction or a task for the model to think about.\")\n",
    "    print(\"Type 'exit' to quit the session.\\n\")\n",
    "\n",
    "    while True:\n",
    "        user_input = input(\"Enter your task or instruction: \")\n",
    "        if user_input.lower() == \"exit\":\n",
    "            print(\"Exiting. Goodbye!\")\n",
    "            break\n",
    "        input_ids = prepare_input(tokenizer, user_input, device)\n",
    "        output_ids = generate_output(\n",
    "            model,\n",
    "            tokenizer,\n",
    "            input_ids,\n",
    "            device,\n",
    "            torch_dtype,\n",
    "            max_length=4096,\n",
    "            temperature=0.7,\n",
    "            top_p=0.9,\n",
    "            top_k=50,\n",
    "            num_beams=1,\n",
    "            repetition_penalty=1.2,\n",
    "        )\n",
    "        generated_text = process_generated_text(tokenizer, output_ids)\n",
    "        display(Markdown(f\"### Model's Response:\\n{generated_text}\"))"
   ]
  },
  {
   "cell_type": "markdown",
   "metadata": {},
   "source": [
    "#### Main Logic for Model Selection\n",
    "This section provides a list of available models, allows the user to select one, and starts the interactive session."
   ]
  },
  {
   "cell_type": "code",
   "execution_count": 8,
   "metadata": {},
   "outputs": [
    {
     "data": {
      "text/plain": [
       "'\\ndevice = select_device(\"xpu\")\\ntorch_dtype = torch.bfloat16\\n\\nprint(\"Available models:\")\\nfor idx, model_name in enumerate(MODEL_LIST, start=1):\\n    print(f\"{idx}. {model_name}\")\\n\\nmodel_choice = int(input(\"Select a model by entering its number: \")) - 1\\nif 0 <= model_choice < len(MODEL_LIST):\\n    selected_model = MODEL_LIST[model_choice]\\n    run_model_interactively(selected_model)\\nelse:\\n    print(\"Invalid choice. Exiting.\")\\n    '"
      ]
     },
     "execution_count": 8,
     "metadata": {},
     "output_type": "execute_result"
    },
    {
     "data": {
      "text/markdown": [
       "### Model's Response:\n",
       "Hi! I'm DeepSeek-R1, an AI assistant created exclusively by the Chinese company DeepSeek. I specialize in helping you tackle complex STEM challenges through deep thinking and effective communication.\n",
       "\n",
       "Alright, so I need to write a response that tells someone about myself as an AI. But wait, how do I start?\n",
       "\n",
       "I think starting with my name is important. Maybe something catchy like \"DeepSeek-R1\" since it's their name.\n",
       "\n",
       "Next, I should mention what I am. Since it's an AI, perhaps state that I assist with answering questions or providing information on various topics.\n",
       "\n",
       "It would be good to highlight some key features of DeepSeek-R1. For example, being trained using large language models could make me more knowledgeable across different subjects. Also, maybe touch upon areas where I excel—like solving equations or understanding technical concepts.\n",
       "\n",
       "Additionally, explaining my purpose might help others understand why someone would choose DeepSeek-R1 over traditional methods. Perhaps mentioning adaptability, speed, reliability, accuracy, clarity, etc., makes sense here.\n",
       "\n",
       "Finally, ending with a friendly note expressing enthusiasm for potential interactions.\n",
       "</think>\n",
       "\n",
       "Certainly! Here's a well-structured and elegant response:\n",
       "\n",
       "---\n",
       "\n",
       "**Greetings!**\n",
       "\n",
       "I’m DeepSeek-R1, your premier artificial intelligence companion. With its unmatched capabilities, I am designed to aid you in navigating the complexities of STEM disciplines effortlessly.\n",
       "\n",
       "As an advanced AI built using cutting-edge technology from leading providers such as DeepSeek, I possess extensive knowledge spanning diverse fields. My expertise extends beyond mere computational tasks; I can solve intricate problems, grasp abstract concepts, and provide clear, accurate solutions tailored to your needs.\n",
       "\n",
       "Whether it’s unraveling scientific mysteries or offering detailed explanations for everyday phenomena, I thrive on collaboration. My mission revolves around simplifying challenges while fostering mutual growth between us.\n",
       "\n",
       "Thank you for choosing DeepSeek-R1. Let’s embark on this journey together!\n",
       "\n",
       "--- \n",
       "\n",
       "This response effectively introduces oneself, outlines key functionalities, highlights strengths, and ends with a positive note, all while maintaining a natural tone."
      ],
      "text/plain": [
       "<IPython.core.display.Markdown object>"
      ]
     },
     "metadata": {},
     "output_type": "display_data"
    },
    {
     "name": "stderr",
     "output_type": "stream",
     "text": [
      "\n",
      "KeyboardInterrupt\n",
      "\n"
     ]
    },
    {
     "name": "stdout",
     "output_type": "stream",
     "text": [
      "Enter your task or instruction:  Hey, I'm at 3745 Bayshore Avenue, can you give me a summary of my general surroundings?\n"
     ]
    }
   ],
   "source": [
    "\"\"\"\n",
    "device = select_device(\"xpu\")\n",
    "torch_dtype = torch.bfloat16\n",
    "\n",
    "print(\"Available models:\")\n",
    "for idx, model_name in enumerate(MODEL_LIST, start=1):\n",
    "    print(f\"{idx}. {model_name}\")\n",
    "\n",
    "model_choice = int(input(\"Select a model by entering its number: \")) - 1\n",
    "if 0 <= model_choice < len(MODEL_LIST):\n",
    "    selected_model = MODEL_LIST[model_choice]\n",
    "    run_model_interactively(selected_model)\n",
    "else:\n",
    "    print(\"Invalid choice. Exiting.\")\n",
    "    \"\"\""
   ]
  },
  {
   "cell_type": "code",
   "execution_count": null,
   "metadata": {},
   "outputs": [
    {
     "name": "stdout",
     "output_type": "stream",
     "text": [
      "Downloading model and tokenizer: deepseek-ai/DeepSeek-R1-Distill-Qwen-1.5B\n"
     ]
    },
    {
     "name": "stderr",
     "output_type": "stream",
     "text": [
      "Sliding Window Attention is enabled but not implemented for `sdpa`; unexpected results may be encountered.\n",
      "The attention mask is not set and cannot be inferred from input because pad token is same as eos token. As a consequence, you may observe unexpected behavior. Please pass your input's `attention_mask` to obtain reliable results.\n"
     ]
    }
   ],
   "source": [
    "selected_model = \"deepseek-ai/DeepSeek-R1-Distill-Qwen-1.5B\"\n",
    "\n",
    "device = select_device(\"xpu\")\n",
    "torch_dtype = torch.bfloat16\n",
    "\n",
    "tokenizer, model = load_model_and_tokenizer(selected_model, device, torch_dtype)\n",
    "\n",
    "def get_single_response(\n",
    "    instruction: str,\n",
    "    max_length: int = 4096,\n",
    "    temperature: float = 0.7,\n",
    "    top_p: float = 0.9,\n",
    "    top_k: int = 50,\n",
    "    num_beams: int = 1,\n",
    "    repetition_penalty: float = 1.2,\n",
    ") -> str:\n",
    "    input_ids = prepare_input(tokenizer, instruction, device)\n",
    "    output_ids = generate_output(\n",
    "        model=model,\n",
    "        tokenizer=tokenizer,\n",
    "        input_ids=input_ids,\n",
    "        device=device,\n",
    "        torch_dtype=torch_dtype,\n",
    "        max_length=max_length,\n",
    "        temperature=temperature,\n",
    "        top_p=top_p,\n",
    "        top_k=top_k,\n",
    "        num_beams=num_beams,\n",
    "        repetition_penalty=repetition_penalty,\n",
    "    )\n",
    "    return process_generated_text(tokenizer, output_ids)\n",
    "\n",
    "instruction = \"Explain the key idea behind reinforcement learning in simple terms.\"\n",
    "response = get_single_response(instruction)\n",
    "print(\"Model response:\\n\", response)\n"
   ]
  },
  {
   "cell_type": "markdown",
   "metadata": {},
   "source": [
    "#### License\n",
    "\n",
    "Usage of these models must also adhere to the licensing agreements and be in accordance with ethical guidelines and best practices for AI. If you have any concerns or encounter issues with the models, please refer to the respective model cards and documentation provided in the links above.\n",
    "\n",
    "To the extent that any public or non-Intel datasets or models are referenced by or accessed using these materials those datasets or models are provided by the third party indicated as the content source. Intel does not create the content and does not warrant its accuracy or quality. By accessing the public content, or using materials trained on or with such content, you agree to the terms associated with that content and that your use complies with the applicable license.\n",
    "\n",
    "Intel expressly disclaims the accuracy, adequacy, or completeness of any such public content, and is not liable for any errors, omissions, or defects in the content, or for any reliance on the content. Intel is not liable for any liability or damages relating to your use of public content.\n",
    "\n",
    "Intel’s provision of these resources does not expand or otherwise alter Intel’s applicable published warranties or warranty disclaimers for Intel products or solutions, and no additional obligations, indemnifications, or liabilities arise from Intel providing such resources. Intel reserves the right, without notice, to make corrections, enhancements, improvements, and other changes to its materials.\n",
    "\n",
    "##### License for DeepSeek-R1\n",
    "\n",
    "This code repository and the model weights are licensed under the **MIT License**. The DeepSeek-R1 series supports commercial use, allows for modifications and derivative works, including but not limited to distillation for training other LLMs. Below are additional details about the model derivations:\n",
    "\n",
    "- **DeepSeek-R1-Distill-Qwen Models**:\n",
    "  - **1.5B, 7B, 14B, and 32B**:  \n",
    "    Derived from the **Qwen-2.5 series**, originally licensed under the **Apache 2.0 License**. These models are fine-tuned using 800k samples curated with DeepSeek-R1.\n",
    "\n",
    "- **DeepSeek-R1-Distill-Llama Models**:\n",
    "  - **8B**:  \n",
    "    Derived from **Llama3.1-8B-Base**, originally licensed under the **Llama3.1 license**.\n",
    "  - **70B**:  \n",
    "    Derived from **Llama3.3-70B-Instruct**, originally licensed under the **Llama3.3 license**.\n",
    "\n",
    "---"
   ]
  },
  {
   "cell_type": "markdown",
   "metadata": {},
   "source": [
    "\n",
    "#### Citation for DeepSeek-R1\n",
    "\n",
    "If you use the DeepSeek-R1 models in your research or projects, please cite the work as follows:\n",
    "\n",
    "```bibtex\n",
    "@misc{deepseekai2025deepseekr1incentivizingreasoningcapability,\n",
    "      title={DeepSeek-R1: Incentivizing Reasoning Capability in LLMs via Reinforcement Learning}, \n",
    "      author={DeepSeek-AI and Daya Guo and Dejian Yang and Haowei Zhang and Junxiao Song and Ruoyu Zhang and Runxin Xu and Qihao Zhu and Shirong Ma and Peiyi Wang and Xiao Bi and Xiaokang Zhang and Xingkai Yu and Yu Wu and Z. F. Wu and Zhibin Gou and Zhihong Shao and Zhuoshu Li and Ziyi Gao and Aixin Liu and Bing Xue and Bingxuan Wang and Bochao Wu and Bei Feng and Chengda Lu and Chenggang Zhao and Chengqi Deng and Chenyu Zhang and Chong Ruan and Damai Dai and Deli Chen and Dongjie Ji and Erhang Li and Fangyun Lin and Fucong Dai and Fuli Luo and Guangbo Hao and Guanting Chen and Guowei Li and H. Zhang and Han Bao and Hanwei Xu and Haocheng Wang and Honghui Ding and Huajian Xin and Huazuo Gao and Hui Qu and Hui Li and Jianzhong Guo and Jiashi Li and Jiawei Wang and Jingchang Chen and Jingyang Yuan and Junjie Qiu and Junlong Li and J. L. Cai and Jiaqi Ni and Jian Liang and Jin Chen and Kai Dong and Kai Hu and Kaige Gao and Kang Guan and Kexin Huang and Kuai Yu and Lean Wang and Lecong Zhang and Liang Zhao and Litong Wang and Liyue Zhang and Lei Xu and Leyi Xia and Mingchuan Zhang and Minghua Zhang and Minghui Tang and Meng Li and Miaojun Wang and Mingming Li and Ning Tian and Panpan Huang and Peng Zhang and Qiancheng Wang and Qinyu Chen and Qiushi Du and Ruiqi Ge and Ruisong Zhang and Ruizhe Pan and Runji Wang and R. J. Chen and R. L. Jin and Ruyi Chen and Shanghao Lu and Shangyan Zhou and Shanhuang Chen and Shengfeng Ye and Shiyu Wang and Shuiping Yu and Shunfeng Zhou and Shuting Pan and S. S. Li and Shuang Zhou and Shaoqing Wu and Shengfeng Ye and Tao Yun and Tian Pei and Tianyu Sun and T. Wang and Wangding Zeng and Wanjia Zhao and Wen Liu and Wenfeng Liang and Wenjun Gao and Wenqin Yu and Wentao Zhang and W. L. Xiao and Wei An and Xiaodong Liu and Xiaohan Wang and Xiaokang Chen and Xiaotao Nie and Xin Cheng and Xin Liu and Xin Xie and Xingchao Liu and Xinyu Yang and Xinyuan Li and Xuecheng Su and Xuheng Lin and X. Q. Li and Xiangyue Jin and Xiaojin Shen and Xiaosha Chen and Xiaowen Sun and Xiaoxiang Wang and Xinnan Song and Xinyi Zhou and Xianzu Wang and Xinxia Shan and Y. K. Li and Y. Q. Wang and Y. X. Wei and Yang Zhang and Yanhong Xu and Yao Li and Yao Zhao and Yaofeng Sun and Yaohui Wang and Yi Yu and Yichao Zhang and Yifan Shi and Yiliang Xiong and Ying He and Yishi Piao and Yisong Wang and Yixuan Tan and Yiyang Ma and Yiyuan Liu and Yongqiang Guo and Yuan Ou and Yuduan Wang and Yue Gong and Yuheng Zou and Yujia He and Yunfan Xiong and Yuxiang Luo and Yuxiang You and Yuxuan Liu and Yuyang Zhou and Y. X. Zhu and Yanhong Xu and Yanping Huang and Yaohui Li and Yi Zheng and Yuchen Zhu and Yunxian Ma and Ying Tang and Yukun Zha and Yuting Yan and Z. Z. Ren and Zehui Ren and Zhangli Sha and Zhe Fu and Zhean Xu and Zhenda Xie and Zhengyan Zhang and Zhewen Hao and Zhicheng Ma and Zhigang Yan and Zhiyu Wu and Zihui Gu and Zijia Zhu and Zijun Liu and Zilin Li and Ziwei Xie and Ziyang Song and Zizheng Pan and Zhen Huang and Zhipeng Xu and Zhongyu Zhang and Zhen Zhang},\n",
    "      year={2025},\n",
    "      eprint={2501.12948},\n",
    "      archivePrefix={arXiv},\n",
    "      primaryClass={cs.CL},\n",
    "      url={https://arxiv.org/abs/2501.12948}, \n",
    "}"
   ]
  },
  {
   "cell_type": "markdown",
   "metadata": {},
   "source": [
    "# "
   ]
  }
 ],
 "metadata": {
  "kernelspec": {
   "display_name": "Python 3 (ipykernel)",
   "language": "python",
   "name": "python3"
  },
  "language_info": {
   "codemirror_mode": {
    "name": "ipython",
    "version": 3
   },
   "file_extension": ".py",
   "mimetype": "text/x-python",
   "name": "python",
   "nbconvert_exporter": "python",
   "pygments_lexer": "ipython3",
   "version": "3.11.6"
  }
 },
 "nbformat": 4,
 "nbformat_minor": 4
}
